{
 "cells": [
  {
   "cell_type": "code",
   "execution_count": null,
   "metadata": {},
   "outputs": [],
   "source": [
    "from readmdict import MDX, MDD\n",
    "from pathlib import Path\n",
    "# import pandas as pd\n",
    "# from bs4 import BeautifulSoup as bs\n",
    "\n",
    "mdx = MDX(\"vocabulary.com.mdx\")\n",
    "items = list(mdx.items())\n",
    "\n",
    "words = []\n",
    "for key, value in items:\n",
    "    words.append(key.decode('utf-8'))\n",
    "# words = '\\n'.join(words)\n",
    "# with open('mwvbwords.txt', 'w') as f:\n",
    "#     f.write(words)\n",
    "aeiou = [word for word in words if all([i in word for i in 'aeiou'])]\n",
    "aeiou = [word for word in aeiou if \" \" not in word]\n",
    "aeiou = sorted(aeiou, key=lambda x: len(x))\n",
    "# for i in items:\n",
    "#     filename = i[0].decode('utf-8').replace('/', '|')\n",
    "#     content = i[1].decode('utf-8')\n",
    "#     (Path('Common English Mistakes Explained') / filename).with_suffix('.html').write_text(content)\n"
   ]
  },
  {
   "cell_type": "code",
   "execution_count": 10,
   "metadata": {},
   "outputs": [
    {
     "name": "stdout",
     "output_type": "stream",
     "text": [
      "['acourie', 'eutopia', 'ouzeria', 'sequoia', 'aboiteau', 'acedious', 'aeluroid', 'aequorin', 'airhouse', 'autocide', 'automise', 'automize', 'autosite', 'dialogue', 'edacious', 'equation', 'euphoria', 'eusocial', 'eutopian', 'godiveau', 'jalousie', 'opiumate', 'poulaine', 'Roumelia', 'thiourea', 'utopiate', 'abreuvoir', 'acuminose', 'aleuronic', 'aliferous', 'alquifore', 'andouille', 'aneuploid', 'arsenious', 'arterious', 'auriscope', 'authorise', 'authorize', 'autocrime', 'autocrine', 'autogenic', 'autophile', 'autotelic', 'behaviour', 'Cointreau', 'deciduoma', 'Deucalion', 'dialoguer', 'eco-audit', 'education', 'emulation', 'equivocal', 'euphorbia', 'exudation', 'facetious', 'favourite', 'guanosine', 'housemaid', 'inoculate', 'inquorate', 'ionopause', 'isobutane', 'jailhouse', 'ketonuria', 'Labourite', 'meiofauna', 'micaceous', 'Micoquean', 'mousetail', 'nefarious', 'neurinoma', 'neuroaxis', 'neuroglia', 'nougatine', 'obsequial', 'odalisque', 'opaqueing', 'ortanique', 'orteguina', 'outlinear', 'parecious', 'phaeodium', 'pinaceous', 'pneumonia', 'quaternio', 'quinovate', 'quotative', 'radiopure', 'Romuleian', 'Roumanise', 'roumanite', 'Roumanize', 'Roumelian', 'Southeian', 'tenacious', 'trialogue', 'uranolite', 'uranotile', 'urokinase', 'uvarovite', 'veracious', 'vexatious', 'vinaceous', 'abiogenous', 'absolutise', 'absolutive', 'absolutize', 'abstemious', 'acetarious', 'acetonuria', 'acoumetric', 'acroterium', 'aculeation', 'aculeiform', 'adenovirus', 'adequation', 'adventious', 'aeriferous', 'aeronautic', 'aeruginous', 'aigre-doux', 'albuminose', 'alliaceous', 'alloimmune', 'androecium', 'aneuploidy', 'areligious', 'arenovirus', 'armigerous', 'auctioneer', 'audiogenic', 'audiometer', 'audiometry', 'audiophile', 'auditionee', 'auditioner', 'auriferous', 'authorized', 'authorizer', 'autoactive', 'autoecious', 'autogenics', 'autoimmune', 'autoionise', 'autoionize', 'autokinesy', 'automatise', 'automative', 'automatize', 'autometric', 'automobile', 'automotive', 'autonoetic', 'autonomise', 'autonomize', 'autosexing', 'autotheism', 'autotheist', 'auto-timer', 'autotomise', 'autotomize', 'autowinder', 'autoxidise', 'autoxidize', 'aëriferous', 'Babouvisme', 'Babouviste', 'Beaujolais', 'beautihood', 'Belorussia', 'coaltitude', 'coequality', 'copulative', 'coriaceous', 'delusional', 'denudation', 'depuration', 'deputation', 'dialoguize', 'dichoraeus', 'discourage', 'duodecimal', 'elucidator', 'enunciator', 'equanimous', 'equational', 'equatorial', 'equitation', 'equivocacy', 'equivocate', 'ericaceous', 'eructation', 'eudaemonic', 'eukaryotic', 'euphoriant', 'evacuation', 'evaluation', 'exhaustion', 'exhumation', 'exultation', 'exuviation', 'fetiparous', 'fluoridate', 'fluorinate', 'foliaceous', 'fountained', 'gelatinous', 'glamourize', 'glauconite', 'gregarious', 'heliopause', 'hellacious', 'ideagenous', 'inoculable', 'inosculate', 'iridaceous', 'jouissance', 'journalise', 'journalize', 'keratinous', 'leucopenia', 'leucotaxis', 'leukopenia', 'liliaceous', 'loudhailer', 'maliferous', 'manumotive', 'meliaceous', 'mendacious', 'menopausic', 'mesovarium', 'metapodium', 'modularise', 'modularize', 'modulative', 'mountained', 'Mousterian', 'Mozambique', 'nauseation', 'nectarious', 'neopallium', 'neuroaxial', 'neuroglial', 'neuropilar', 'neutralino', 'nonabusive', 'novaculite', 'nucleation', 'numeration', 'obituarise', 'obituarize', 'obnubilate', 'occupiable', 'oceanarium', 'oleaginous', 'olivaceous', 'omnisexual', 'orangequit', 'orbiculate', 'osmaterium', 'ouananiche', 'outpatient', 'oxymuriate', 'paludicole', 'paroecious', 'peculation', 'pentosuria', 'periocular', 'persuasion', 'petiolular', 'plesiosaur', 'popularise', 'popularize', 'Portugaise', 'Poujadisme', 'Poujadiste', 'praetorium', 'precarious', 'precaution', 'predacious', 'prunoidean', 'pseudimago', 'pyroaurite', 'quadripole', 'quaternion', 'quatrefoil', 'Queuetopia', 'quietation', 'radiculose', 'radiferous', 'radiopaque', 'raisonneur', 'ramiferous', 'ramigerous', 'recusation', 'refutation', 'regulation', 'remutation', 'repudiator', 'reputation', 'rheumatoid', 'rubiaceous', 'saliferous', 'saviouress', 'seaborgium', 'sequacious', 'sialagogue', 'soundalike', 'souterrain', 'staurolite', 'suboceanic', 'superation', 'tambourine', 'tautocline', 'tautomeric', 'tourmaline', 'trouvaille', 'ulceration', 'uncopiable', 'unfavorite', 'union-made', 'unisolated', 'unisonance', 'unmoralize', 'unobtained', 'unordained', 'unoriental', 'unoxidated', 'unpoetical', 'unsociable', 'unviolated', 'urogenital', 'utopianise', 'utopianize', 'violaceous', 'abstentious', 'acidiferous', 'adipocerous', 'aeronautica', 'aeronautics', 'aerophilous', 'aerugineous', 'agatiferous', 'aigre-douce', 'ailurophile', 'ailurophobe', 'albugineous', 'alieniloquy', 'alismaceous', 'altiloquent', 'anaerobious', 'antineutron', 'anxiousness', 'aponeurosis', 'aponeurotic', 'archegonium', 'attenuation', 'audiometric', 'authigenous', 'autoantigen', 'autocentric', 'autodialler', 'auto-erotic', 'autoerotism', 'autogenesis', 'autogenetic', 'autogestion', 'autoinducer', 'autokinesis', 'autokinetic', 'autopoiesis', 'autopoietic', 'auto-rewind', 'autosoteric', 'autotoxemia', 'babelicious', 'behavioural', 'Belorussian', 'bicephalous', 'bimolecular', 'bioturbated', 'boatbuilder', 'Byelorussia', 'calciferous', 'Camerounian', 'carbolineum', 'cauliflower', 'cellulation', 'coagulative', 'co-latitude', 'colourative', 'communalise', 'communalize', 'communicate', 'commutative', 'computative', 'concubinage', 'consanguine', 'continuable', 'continuance', 'countervail', 'crematorium', 'crenulation', 'cupellation', 'dauphinoise', 'decussation', 'degustation', 'denunciator', 'deuteration', 'devaluation', 'diadelphous', 'discouraged', 'eco-auditor', 'educational', 'efficacious', 'ejaculation', 'elucidation', 'elucidatory', 'elutriation', 'encouraging', 'endocardium', 'enucleation', 'enumeration', 'enunciation', 'equinoctial', 'equivocally', 'equivocator', 'euchromatic', 'euchromatin', 'eudaemonism', 'eudaemonist', 'Europeanise', 'Europeanism', 'Europeanist', 'Europeanity', 'Europeanize', 'eusociality', 'eventuation', 'evolutional', 'exculpation', 'executorial', 'expurgation', 'extenuation', 'facetiously', 'facinerious', 'farinaceous', 'fecundation', 'filamentous', 'fluvoxamine', 'folliculate', 'formularise', 'formularize', 'gemmiparous', 'gemmulation', 'glucosamine', 'glutathione', 'gourmandise', 'gourmandize', 'graniferous', 'gubernation', 'harbourside', 'Hondurenian', 'housemating', 'house-train', 'huitlacoche', 'importunate', 'impoundable', 'infeudation', 'infortunate', 'inoculative', 'insouciance', 'intravenous', 'jejunoileal', 'lactiferous', 'langoustine', 'latericeous', 'latericious', 'lateritious', 'leprosarium', 'leucoplakia', 'leucotactic', 'leukoplakia', 'ligamentous', 'linguaceous', 'Linguaphone', 'Maine–Anjou', 'mainpernour', 'Mallorquine', 'mammiferous', 'medullation', 'melampodium', 'menaquinone', 'mensuration', 'mercuration', 'mesiobuccal', 'mesosuchian', 'metastomium', 'milquetoast', 'modularised', 'modularized', 'mountaineer', 'multilobate', 'multinodate', 'murderation', 'mustachioed', 'myricaceous', 'Nautiloidea', 'nefariously', 'Nematodirus', 'neostriatum', 'neurilemoma', 'neuroactive', 'neuropathic', 'neuropodial', 'neurulation', 'neutropenia', 'nitrosourea', 'noumenalism', 'noumenalist', 'noumenality', 'nourishable', 'obfusticate', 'objurgative', 'obturbinate', 'octuplicate', 'Ophiuroidea', 'outbreaking', 'outdistance', 'out-migrate', 'outspeaking', 'overanxious', 'overcaution', 'overfatigue', 'ovicellular', 'oxaluramide', 'oxamniquine', 'oxymuriated', 'pandemonium', 'pappiferous', 'partied-out', 'patchoulied', 'peccaminous', 'pedagoguish', 'pelargonium', 'pendulation', 'pennatuloid', 'perduration', 'perequation', 'perilobular', 'permutation', 'petiolulate', 'piperaceous', 'plantiequoy', 'Plasmoquine', 'pleurodiran', 'pleurodynia', 'pneumatosis', 'poguey-bait', 'popularizer', 'portraiture', 'postulative', 'praepositus', 'precautious', 'procurative', 'propinquate', 'proteinuria', 'pseudo-acid', 'pseudo-axis', 'pseudo-idea', 'pseudologia', 'pseudomania', 'pubovesical', 'pulveration', 'pyritaceous', 'quadrilobed', 'quadrilogue', 'quaestorial', 'quaestorian', 'quasi-quote', 'questionary', 'quinazoline', 'quindecagon', 'quinoxaline', 'quiveration', 'quodlibetal', 'radiolucent', 'radio-quiet', 'Rambouillet', 'ratatouille', 'reauthorize', 'reconquista', 'recurvation', 'redargution', 'reductional', 'refractious', 'reinoculate', 'reliquation', 'renunciator', 'repudiation', 'repudiatory', 'repurgation', 'requotation', 'residuation', 'resinaceous', 'revaluation', 'Rousseauian', 'Rousseauish', 'Rousseauism', 'Rousseauist', 'Rousseauite', 'rubefaction', 'sanguineous', 'savouriness', 'scoriaceous', 'semi-opaque', 'speculation', 'subcreation', 'subitaneous', 'sublevation', 'subordinate', 'subornative', 'subpetiolar', 'subregional', 'subvocalise', 'subvocalize', 'sufferation', 'sulfonamide', 'superiorate', 'superlation', 'suppositate', 'sustenation', 'tautologize', 'tautomerise', 'tautomerism', 'tautomerize', 'tautometric', 'temerarious', 'tenaciously', 'Teotihuacán', 'tetrazolium', 'thioguanine', 'thiosulfate', 'tolbutamide', 'tumefaction', 'ultraviolet', 'unavoidable', 'uncongenial', 'undiagnosed', 'unemotional', 'unequivocal', 'unfashioned', 'unfavourite', 'uniloculate', 'union-maker', 'unipersonal', 'unipetalous', 'unmicaceous', 'unmoralised', 'unmoralized', 'unmotivated', 'unobstinate', 'unoperating', 'unoperative', 'unorganised', 'unorganized', 'unoriginate', 'unpanoplied', 'unparboiled', 'unpassioned', 'unpolarized', 'unreasoning', 'unromanized', 'uraniferous', 'uranometria', 'uranopilite', 'utopianizer', 'varicellous', 'variousness', 'veraciously', 'vexatiously', 'vituperator', 'warehousing', 'ablaqueation', 'abstemiously', 'accentuation', 'acid-soluble', 'acutifoliate', 'adulteration', 'advectitious', 'adventitious', 'aeroacoustic', 'aeronautical', 'affectatious', 'agglutinogen', 'agrobusiness', 'alkaligenous', 'altiloquence', 'alumocalcite', 'ambidextrous', 'andouillette', 'anemophilous', 'argillaceous', 'audio-active', 'audiometrist', 'augmentation', 'Austronesian', 'authorisable', 'authorizable', 'autoallergic', 'autocentrism', 'autocephalic', 'autocritique', 'autogenocide', 'autoinjector', 'automobilize', 'autoreactive', 'autorotative', 'autosemantic', 'autosoterism', 'autotheistic', 'autotoxaemia', 'auto-zeroing', 'Barquisimeto', 'behaviourism', 'behaviourist', 'biomolecular', 'biosignature', 'Bougainville', 'boulevardier', 'Byelorussian', 'captiousness', 'carillonneur', 'cautiousness', 'circumrotate', 'coachbuilder', 'co-education', 'co-insurance', 'communalizer', 'communicable', 'configurable', 'confusticate', 'consultative', 'consummative', 'continuative', 'copulatively', 'counterclaim', 'counterstain', 'customisable', 'customizable', 'demodulation', 'denaturation', 'denunciation', 'denunciatory', 'depopulation', 'deregulation', 'desaturation', 'desquamation', 'deuteranopia', 'dialoguewise', 'diatomaceous', 'discomedusan', 'discountable', 'docutainment', 'duodecimally', 'eco-auditing', 'educationary', 'educationese', 'educationise', 'educationism', 'educationist', 'educationize', 'edulcoration', 'effectuation', 'elocutionary', 'emasculation', 'encrustation', 'equalization', 'equatorially', 'equilibrator', 'equiprobable', 'equivocality', 'equivocation', 'equivocatory', 'euphorically', 'Euro-America', 'eutrophicate', 'evolutionary', 'exclusionary', 'excruciation', 'executionary', 'exsufflation', 'factiousness', 'fair-tongued', 'fluorapatite', 'fluosilicate', 'folliculated', 'fountainhead', 'gallinaceous', 'gelatinously', 'geniculation', 'genitocrural', 'genitosexual', 'gesticulator', 'gourmandizer', 'graciousness', 'graminaceous', 'gregariously', 'grossularite', 'Guadeloupian', 'hallucinogen', 'Heliogabalus', 'heliogravure', 'hellaciously', 'housemaiding', 'housemanship', 'house-raiser', 'housesharing', 'ill-favoured', 'incommutable', 'incomputable', 'informulable', 'interlobular', 'in-your-face', 'Judaeophobia', 'Languedocian', 'largiloquent', 'laticiferous', 'linguodental', 'liquefaction', 'lotus-eating', 'machine-hour', 'macrospicule', 'Macrotherium', 'magniloquent', 'magnussonite', 'malnourished', 'megalosaurid', 'mendaciously', 'menstruation', 'mesiolingual', 'mesogastrium', 'metafunction', 'microcapsule', 'micronuclear', 'micro-opaque', 'mid-European', 'misbehaviour', 'miscatalogue', 'misdemeanour', 'miseducation', 'misfortunate', 'Mitteleuropa', 'Mixe–Zoquean', 'molecularist', 'molecularity', 'molluscacide', 'Molluscoidea', 'mountainette', 'mountainside', 'mousquetaire', 'moustachioed', 'Muggletonian', 'mulatto-like', 'multi-coated', 'multicostate', 'multifoliate', 'multimegaton', 'multiovulate', 'museographic', 'museological', 'natroalunite', 'nebulization', 'neo-Freudian', 'neo-Gaullism', 'neo-Gaullist', 'neurilemmoma', 'neuroblastic', 'neurocranial', 'neurocranium', 'neurofibroma', 'neuroimaging', 'neurokeratin', 'neurological', 'neuromelanin', 'neuropathist', 'neuroplasmic', 'neurotically', 'neurotoxical', 'neurotypical', 'neutrophilia', 'nucleocapsid', 'nucleosidase', 'nucleotidase', 'nugatoriness', 'oculogenital', 'oleaginously', 'orchidaceous', 'ostentatious', 'outbreathing', 'out-clearing', 'outfangthief', 'outfieldsman', 'outstationed', 'outstreaming', 'outwandering', 'overcautious', 'overfatigued', 'overmaturity', 'overquantity', 'oversupinate', 'overvaulting', 'oxalidaceous', 'paleopallium', 'paleotherium', 'papuliferous', 'papyriferous', 'paradoxurine', 'pauciloquent', 'pedipulation', 'peraluminous', 'percussional', 'periostracum', 'peripetalous', 'perpetuation', 'pertinacious', 'perturbation', 'pervicacious', 'petaliferous', 'Petrobrusian', 'Picassoesque', 'planiloquent', 'pleiochasium', 'Plesiosaurus', 'pleurorhizal', 'plurifoliate', 'porcelainous', 'postcruciate', 'postscaenium', 'praecognitum', 'praseodymium', 'pre-auditory', 'precariously', 'precausation', 'precautional', 'primulaceous', 'pro-attitude', 'pronunciable', 'propaedeutic', 'pseudoataxic', 'pseudogeusia', 'pseudoglioma', 'pseudohalide', 'pseudo-imago', 'pseudolabium', 'pseudopodial', 'pseudorabies', 'pseudorganic', 'pseudostigma', 'pseudouracil', 'ptaquiloside', 'pterosaurian', 'pulmohepatic', 'pulverizator', 'putrefaction', 'pyromucamide', 'quadrilobate', 'quadrisetose', 'quaestorship', 'quaternionic', 'quatrefoiled', 'quebrachitol', 'questionable', 'questionably', 'quick-loader', 'quinacridone', 'racemiferous', 'radiolucency', 'radionuclide', 'radio-opaque', 'radiosurgery', 'ramuliferous', 'reassumption', 'recuperation', 're-education', 'refiguration', 'refoundation', 'rejuvenation', 'relumination', 'remuneration', 'renaturation', 'renucleation', 'renumeration', 'renunciation', 'renunciatory', 'reoccupation', 'repopulation', 'reputational', 'restauration', 'resupination', 'resuscitator', 'reticulation', 'reundulation', 'revolutional', 'ribonuclease', 'rose-a-rubie', 'rough-gaited', 'Rousseauvian', 'routemanship', 'sacrilegious', 'scitamineous', 'scutellation', 'seismosaurus', 'sequaciously', 'simultaneous', 'spaciousness', 'splendacious', 'sternutation', 'stupefaction', 'subdiaconate', 'subeditorial', 'suberization', 'subfeudation', 'subjectional', 'sublineation', 'subordinance', 'subpetiolate', 'subsensation', 'subtopianize', 'successional', 'sulphonamide', 'superflation', 'superorbital', 'superorganic', 'superstation', 'supportative', 'sustentation', 'tabloidesque', 'tautegorical', 'tautologizer', 'thiosulphate', 'titaniferous', 'trepidatious', 'tubocurarine', 'unapologetic', 'unassociated', 'unauthorised', 'unauthorized', 'uncommercial', 'undemocratic', 'uneconomical', 'unforgivable', 'unheroically', 'unimolecular', 'unimportance', 'union-basher', 'unmatronlike', 'unmethodical', 'unmodifiable', 'unnegotiable', 'unnoticeable', 'unnoticeably', 'unobtainable', 'unoccasioned', 'unoriginated', 'unoxidizable', 'unpassionate', 'unpatronized', 'unpersuasion', 'unpoetically', 'unpoisonable', 'unpolishable', 'unpopularize', 'unportraited', 'unprecarious', 'unprisonable', 'unproclaimed', 'unprofitable', 'unrationable', 'unreciprocal', 'unrelational', 'unrhetorical', 'unsanctioned', 'uranocircite', 'uranospinite', 'uranothorite', 'utopian-like', 'Vancouverite', 'varicoloured', 'vesiculation', 'vituperation', 'acetabuliform', 'admensuration', 'aeroacoustics', 'agrobacterium', 'air-cushioned', 'albuminometer', 'all-devouring', 'alloantiserum', 'aluminiferous', 'aluminothermy', 'ambiguousness', 'ambitiousness', 'angioneurotic', 'angiospermous', 'anthraquinone', 'arboriculture', 'argentiferous', 'argumentation', 'arteriovenous', 'assiduousness', 'atrociousness', 'auctioneering', 'audaciousness', 'audio-tactile', 'autecological', 'authenticator', 'authoritative', 'auto-activate', 'autoconfigure', 'autodigestion', 'autoinfection', 'autoinfective', 'autokinetical', 'automobilised', 'automobilized', 'autoschediasm', 'autotherapist', 'autoxidisable', 'autoxidizable', 'avant-courier', 'behaviourally', 'bignoniaceous', 'bioaccumulate', 'bioequivalent', 'boraginaceous', 'bougainvillea', 'bouillabaisse', 'businesswoman', 'capaciousness', 'Carboniferous', 'cauterization', 'cleistogamous', 'communautaire', 'communicative', 'conceptualise', 'conceptualism', 'conceptualist', 'conceptuality', 'conceptualize', 'consequential', 'contextualise', 'contextualism', 'contextualist', 'contextualize', 'cosmeceutical', 'counteraction', 'counteractive', 'cousin-german', 'criocephalous', 'customariness', 'deattribution', 'decapsulation', 'deduplication', 'degranulation', 'denticulation', 'depublication', 'deuteragonist', 'devolutionary', 'dialypetalous', 'dialysepalous', 'dichlamydeous', 'discouragable', 'dishonourable', 'documentalist', 'documentarian', 'documentarily', 'documentarist', 'documentation', 'documentative', 'double-acting', 'double-action', 'dromaeosaurid', 'dysregulation', 'educationable', 'educationally', 'efficaciously', 'encapsulation', 'encouragingly', 'enculturation', 'equilibration', 'equipartition', 'equipotential', 'equivocalness', 'ethmoturbinal', 'ethnophaulism', 'eudaemonistic', 'eudiometrical', 'Euro-American', 'European-wide', 'Eurosceptical', 'evolutionally', 'excommunicant', 'excommunicate', 'expostulation', 'facetiousness', 'feudalization', 'Fontainebleau', 'fractiousness', 'frequentation', 'fugaciousness', 'gastrocnemius', 'geitonogamous', 'germiniparous', 'gesticulation', 'gesticulatory', 'grandiloquent', 'granulometric', 'gubernational', 'gubernatorial', 'head-counting', 'hilariousness', 'Holothuroidea', 'homosexuality', 'housebreaking', 'housecleaning', 'house-heating', 'housemaidenly', 'house-warming', 'hypermutation', 'hyperoxaluria', 'hyracotherium', 'immunotherapy', 'importunately', 'improvisateur', 'inefficacious', 'infortunately', 'instantaneous', 'insubordinate', 'insupportable', 'intercolumnar', 'interneuronal', 'intravenously', 'laboriousness', 'lambeosaurine', 'lamellipodium', 'lateropulsion', 'leukaemogenic', 'macroemulsion', 'macronutrient', 'magnetiferous', 'magniloquence', 'magnoliaceous', 'mal-education', 'maliciousness', 'malleoincudal', 'mammaliferous', 'manganiferous', 'marsileaceous', 'marsiliaceous', 'medicamentous', 'mensurational', 'metadiscourse', 'metallicolous', 'metalliferous', 'microcellular', 'microcephalus', 'microfracture', 'minor-leaguer', 'miscatalogued', 'miscellaneous', 'monosexuality', 'Montaignesque', 'Montepulciano', 'monumentalise', 'monumentalism', 'monumentality', 'monumentalize', 'mountain-like', 'mountainscape', 'mountebanking', 'mountebankish', 'mouth-bearing', 'multilobulate', 'multiloculate', 'multipersonal', 'multiregional', 'multisectoral', 'museumisation', 'museumization', 'musicographer', 'mycobacterium', 'myxobacterium', 'nanobacterium', 'napthaquinone', 'nature-loving', 'nectariferous', 'nectarivorous', 'nefariousness', 'neo-Confucian', 'neuralisation', 'neuralization', 'neurapophysis', 'neuroanatomic', 'neurobiotaxis', 'neurochemical', 'neurofibrilla', 'neurofilament', 'neuronophagia', 'neurophysical', 'neurosurgical', 'neurotisation', 'neurotization', 'nitrofurazone', 'non-Euclidean', 'nucleoplasmic', 'numerological', 'oculocephalic', 'oligochaetous', 'omnisexuality', 'one-upmanship', 'overabounding', 'overambitious', 'overanxiously', 'overinsurance', 'overqualified', 'overstimulate', 'oversupinator', 'overvaluation', 'overvulcanise', 'overvulcanize', 'ovotesticular', 'palaeopallium', 'palaeo-radius', 'palaeotherium', 'paleolatitude', 'panleucopenia', 'panleukopenia', 'Pantagruelion', 'pan-Teutonism', 'papilliferous', 'papulovesicle', 'parareligious', 'pareiosaurian', 'parmeliaceous', 'particoloured', 'pauperization', 'pedunculation', 'pelycosaurian', 'peninsulation', 'pentastichous', 'perambulation', 'perimenopause', 'perineovulvar', 'peripneumonia', 'perlustration', 'permutational', 'perscrutation', 'persecutional', 'perspicacious', 'perturbatious', 'petalliferous', 'physaliferous', 'pilosebaceous', 'plastoquinone', 'platiniferous', 'plesiosaurian', 'plesiosauroid', 'pleurotomarid', 'plumbocalcite', 'pneumatolysis', 'pneumatolytic', 'Pneumatomachi', 'pneumodynamic', 'pneumogastric', 'pneumographic', 'pneumorrhagia', 'polybutadiene', 'porcellainous', 'post-Freudian', 'Posturepaedic', 'precautionary', 'precautiously', 'pre-Cavourian', 'pre-Columbian', 'pre-connubial', 'prefiguration', 'prejudication', 'prematuration', 'premunisation', 'premunization', 'preoccupation', 'preoccupative', 'pre-ovulation', 'problematique', 'problématique', 'proceduralism', 'proceduralist', 'processualism', 'processualist', 'pronunciative', 'prosecutorial', 'proteinaceous', 'protuberating', 'protuberation', 'pseudoallelic', 'pseudobreccia', 'pseudocubical', 'pseudokarstic', 'pseudological', 'pseudoparesis', 'pseudopatient', 'pseudoplastic', 'pseudoracemic', 'pseudo-social', 'pseudosuchian', 'pseudovitamin', 'pulverization', 'punkah-coolie', 'putrefactious', 'putrefication', 'pyrocatechuic', 'quadricostate', 'quadrifoliate', 'quadrisection', 'quadrivoltine', 'quantophrenia', 'Quartodeciman', 'quartziferous', 'quartz-iodine', 'quasiperiodic', 'quaternionist', 'quatuorvirate', 'questionnaire', 'quinquelobate', 'quodlibetical', 'quotativeness', 'rapaciousness', 'raphidiferous', 'reacquisition', 'recalculation', 'recapitulator', 'recirculation', 'recirculatory', 'recoagulation', 'recommunicate', 'recomputation', 'recontinuance', 'recouperation', 'recultivation', 'reductionally', 'reduplication', 'reduplicatory', 're-evaluation', 'reformulation', 'regulationist', 'regurgitation', 'rehumiliation', 'reinoculation', 'republication', 'repugnatorial', 'requisitorial', 're-regulation', 'restimulation', 'restimulatory', 'restipulation', 'resublimation', 'resuscitation', 'reunification', 'reutilization', 'revolutionary', 'rhodium-plate', 'rough-grained', 'rubberisation', 'rubberization', 'ruggedization', 'salaciousness', 'semi-acoustic', 'sensorineural', 'sequestration', 'sexualization', 'soixante-neuf', 'squillionaire', 'subcategorise', 'subcategorize', 'subdeaconship', 'subdelegation', 'subequatorial', 'subordinately', 'subordinative', 'subperiosteal', 'subperitoneal', 'subspeciation', 'subventionary', 'subversionary', 'superaddition', 'superdominant', 'superfetation', 'supermajority', 'supernatation', 'supernational', 'superordinary', 'superordinate', 'superorganism', 'superrotation', 'surexcitation', 'suxamethonium', 'tautometrical', 'tenaciousness', 'Tibeto-Burman', 'tousle-haired', 'troublemaking', 'tuberculation', 'unaccompanied', 'unanimousness', 'uncomplicated', 'unconstrained', 'uncontainable', 'uncooperative', 'uncoordinated', 'undissociated', 'unemotionally', 'unequivocally', 'unexceptional', 'unfashionable', 'unimpassioned', 'uninformative', 'unintentional', 'unmentionable', 'unmentionably', 'unmetabolized', 'unnourishable', 'unobliterable', 'unobliterated', 'unopinionated', 'unorganizable', 'unoriginative', 'unpersonality', 'unpetticoated', 'unpindownable', 'unpreparation', 'unproblematic', 'unproletarian', 'unpropitiable', 'unprovocative', 'unreasoningly', 'unreproaching', 'unrestorative', 'unsavouriness', 'unsensational', 'unwomanliness', 'unworkmanlike', 'uranochalcite', 'uranometrical', 'uranospherite', 'uranothallite', 'ventriloquial', 'veraciousness', 'vermiculation', 'vexatiousness', 'vicariousness', 'vivaciousness', 'voluntariness', 'voraciousness', 'abrenunciation', 'abstemiousness', 'adiathermanous', 'adventitiously', 'agglutinophore', 'air-to-surface', 'Alain-Fournier', 'albumeniferous', 'albuminiferous', 'alumino-ferric', 'aluminothermic', 'aluminothermie', 'ambidextrously', 'asexualization', 'audiometrician', 'auspiciousness', 'authentication', 'autoaggressive', 'autobiographer', 'autobracketing', 'autocovariance', 'auto-education', 'auto-eroticism', 'autoinoculable', 'autoregression', 'autoregressive', 'autoregulating', 'autoregulation', 'autostabiliser', 'autostabilizer', 'autosuggestion', 'autosuggestive', 'autotetraploid', 'avariciousness', 'beautification', 'behaviouralism', 'behaviouralist', 'behaviouristic', 'biobehavioural', 'bioequivalence', 'bioequivalency', 'bougainvillaea', 'capriciousness', 'centrifugation', 'chivalrousness', 'co-educational', 'computer-aided', 'computerizable', 'consanguineous', 'conservatorium', 'consuetudinary', 'consummatively', 'contagiousness', 'countershading', 'cucurbitaceous', 'deflocculation', 'dehumanisation', 'dehumanization', 'deinonychosaur', 'demountability', 'Deutero-Isaiah', 'diamantiferous', 'diamondiferous', 'discombobulate', 'discontinuable', 'discontinuance', 'discountenance', 'discourageable', 'discouragement', 'double-dealing', 'Dumbartonshire', 'Dunbartonshire', 'educationalism', 'educationalist', 'emulsification', 'eulogistically', 'Euro-strategic', 'eutrophication', 'evolutionarily', 'excommunicator', 'exsanguination', 'factitiousness', 'fallaciousness', 'fastidiousness', 'ferrobacterium', 'flagitiousness', 'fluoracetamide', 'fluorosilicate', 'foraminiferous', 'full-fashioned', 'genito-urinary', 'grandiloquence', 'gratuitousness', 'gregariousness', 'groundbreaking', 'hallucinogenic', 'harmoniousness', 'heart-in-mouth', 'hemimetabolous', 'hemoglobinuria', 'Hermaphroditus', 'honourableship', 'housemastering', 'immunochemical', 'immunolabeling', 'immunoreactive', 'incautiousness', 'incommensurate', 'incommunicable', 'infopreneurial', 'insurmountable', 'intermolecular', 'intramolecular', 'Judaeo-Spanish', 'keratomileusis', 'Labour-Liberal', 'lasciviousness', 'Liberal-Labour', 'loquaciousness', 'machinofacture', 'macroevolution', 'magniloquently', 'maiden-thought', 'malnourishment', 'malpighiaceous', 'mass-customize', 'maturity-onset', 'megasporangium', 'melanorosaurid', 'mercaptopurine', 'metafunctional', 'microbacterium', 'microcephalous', 'microminiature', 'microtrabecula', 'miraculousness', 'misadventurous', 'miscommunicate', 'misconstruable', 'Mitteleuropean', 'moisture-laden', 'mould-breaking', 'mountain-cedar', 'mountaineering', 'mouth-watering', 'mucogelatinous', 'mucoperiosteal', 'multi-authored', 'multifoliolate', 'multi-keyboard', 'multilobulated', 'multiloculated', 'multimolecular', 'multinucleolar', 'multiperforate', 'multipotential', 'multiprogramme', 'multisectional', 'museographical', 'nanoequivalent', 'naphthaquinone', 'naphthoquinone', 'nature-worship', 'neo-Malthusian', 'neurilemmatous', 'neuroanatomist', 'neuroepidermal', 'neurofibrillar', 'neurogenically', 'neurologically', 'neuromechanism', 'neuromyopathic', 'neuroparalysis', 'neuroparalytic', 'neuropediatric', 'neuroradiology', 'neuro-semantic', 'neutralization', 'neutronization', 'Newfoundlandic', 'nitrobacterium', 'nitroreductase', 'nomenclaturist', 'nomenklaturist', 'non-cumulative', 'non-evaluative', 'non-figurative', 'non-regulation', 'noun–adjective', 'nuclearisation', 'nuclearization', 'oblique-angled', 'occupationless', 'oleaginousness', 'oleo-pneumatic', 'orthoquartzite', 'osmoregulating', 'osmoregulation', 'ostentatiously', 'outlandishness', 'overcautiously', 'overenthusiasm', 'over-labouring', 'overmodulation', 'overpersuasion', 'overpopulation', 'oversaturation', 'oversupination', 'over-vulcanize', 'oxalosuccinate', 'oxidoreductase', 'palaeolatitude', 'palaeostriatum', 'pantoyltaurine', 'papilionaceous', 'paralaurionite', 'pasteurellosis', 'pasteurization', 'pediculophobia', 'perfluorinated', 'perfunctionary', 'perifollicular', 'perimenopausal', 'perisporangium', 'perlocutionary', 'permutationist', 'pertinaciously', 'perturbational', 'phenylthiourea', 'photobacterium', 'photoduplicate', 'photostimulate', 'placentiferous', 'Plesianthropus', 'pleurapophysis', 'pleurobranchia', 'pleurotomariid', 'pleurovisceral', 'plumbojarosite', 'plurifoliolate', 'pluripotential', 'pluviometrical', 'pneumatisation', 'pneumatization', 'pneumatologist', 'pneumodynamics', 'polarinucleate', 'polemoniaceous', 'polypodiaceous', 'Port-au-Prince', 'position-value', 'post-ovulative', 'posture-making', 'precalculation', 'precariousness', 'precommissural', 'predaciousness', 'prepublication', 'prereductional', 'pressurization', 'proceleusmatic', 'Procrusteanism', 'Procrusteanize', 'progametangium', 'pronunciamento', 'propaedeutical', 'Protevangelium', 'protocatechuic', 'protuberantial', 'proventricular', 'pseudaconitine', 'pseudarthrosis', 'pseudoalkaloid', 'pseudoallelism', 'pseudo-archaic', 'pseudobasidium', 'pseudobranchia', 'pseudo-classic', 'pseudodementia', 'pseudodipteral', 'pseudodominant', 'pseudometallic', 'pseudo-organic', 'pseudoparasite', 'pseudoreaction', 'pseudorotation', 'pseudospiracle', 'pugnaciousness', 'pyopericardium', 'quadriloculate', 'quarter-voided', 'quasimolecular', 'quaternization', 'quatrefoliated', 'quattrocentism', 'quattuorvirate', 'quinova-bitter', 'quinquefarious', 'quinquelocular', 'quodlibetarian', 'rabble-rousing', 'radio-loudness', 'radiotellurium', 'reaccumulation', 'recapitulation', 'recapitulatory', 'reconfigurable', 'recuperatorial', 'rediscountable', 're-enunciation', 'regularization', 'reillumination', 'reinauguration', 'reinstauration', 'repudiationist', 'repurification', 'requisitionary', 'restitutionary', 'resurrectional', 'reticulopodial', 'reticulospinal', 'revolutionaire', 'rheumatologist', 'rhizocephalous', 'Russo-American', 'sacrilegiously', 'salubriousness', 'secularization', 'securitization', 'self-adulation', 'self-education', 'semi-automatic', 'sextuplication', 'simultaneously', 'soul-searching', 'spermatogonium', 'subacrocentric', 'subalternation', 'subatmospheric', 'subcontinental', 'subcontrariety', 'subenfeudation', 'suberification', 'subinfeudation', 'subinfeudatory', 'subintentional', 'subpersonality', 'superannuation', 'supercapacitor', 'super-Catholic', 'superelevation', 'supererogating', 'supererogation', 'supererogative', 'superfetatious', 'superimposable', 'supernormality', 'superoccipital', 'superordinated', 'superovulation', 'superpronation', 'superpurgation', 'super-rational', 'supersonically', 'superstitional', 'suprachoroidea', 'surface-to-air', 'tautegorically', 'tautomerisable', 'tautomerizable', 'tongue-lashing', 'trepidatiously', 'tuberculocidal', 'unaccomplished', 'unaffectionate', 'unappropriated', 'uncommunicated', 'unconscionable', 'unconsolidated', 'uncontaminated', 'uncontradicted', 'unconventional', 'undervaluation', 'undiscoverable', 'undomesticated', 'uneconomically', 'ungraciousness', 'unidimensional', 'unidirectional', 'unincorporated', 'unipersonalist', 'unipersonality', 'unmelodramatic', 'unmetaphorical', 'unmethodically', 'unostentatious', 'unpassionately', 'unphonetically', 'unpraiseworthy', 'unproblematize', 'unprofessional', 'unprofessorial', 'unprophesiable', 'unproscribable', 'unprovidential', 'unquestionable', 'unquestionably', 'unreciprocated', 'unrecognisable', 'unrecognizable', 'unrecognizably', 'unreconcilable', 'unreconcilably', 'unregeneration', 'unromanticized', 'unsociableness', 'uproariousness', 'uranosphaerite', 'uranotantalite', 'value-oriented', 'villainousness', 'viviparousness', 'volumetrically', 'watercolouring', 'watercolourist', 'watering-house', 'well-labouring', 'Westinghousian', 'while-you-wait', 'young-ladylike', 'accrementitious', 'acoustoelectric', 'acrimoniousness', 'aegithognathous', 'agrobusinessman', 'alloalbuminemia', 'alternipetalous', 'alternisepalous', 'aluminosilicate', 'aluminothermics', 'anglo-helvetium', 'atrabiliousness', 'audiometrically', 'auriculotherapy', 'authoritatively', 'auto-correction', 'autocorrelation', 'auto-everything', 'auto-intoxicate', 'auto-oxidisable', 'auto-oxidizable', 'autoportraiture', 'autoproteolysis', 'autoschediastic', 'autosuggestible', 'autotetraploidy', 'bioaccumulative', 'biopharmaceutic', 'carbol-fuchsine', 'carnivorousness', 'cellularisation', 'cellularization', 'chromium-plated', 'co-evolutionary', 'colourimetrical', 'communicatively', 'community-based', 'computerization', 'conceptualistic', 'consequentially', 'consumerization', 'corynebacterium', 'countercyclical', 'counterirritant', 'counterrotation', 'crustaceologist', 'crystalliferous', 'crystalligerous', 'customer-facing', 'cyberjournalist', 'cytomegalovirus', 'decarburization', 'decidualisation', 'decidualization', 'decommunization', 'decontextualise', 'decontextualize', 'demutualization', 'desexualization', 'disadvantageous', 'discountenancer', 'earth-conscious', 'efficaciousness', 'electro-musical', 'electrosurgical', 'enantiomorphous', 'enterobacterium', 'equipartitioned', 'equiprobability', 'erythroleukemia', 'estivo-autumnal', 'Euro-federalism', 'Euro-federalist', 'Europeanization', 'excommunication', 'excommunicative', 'excommunicatory', 'ferro-prussiate', 'fissiparousness', 'flirtatiousness', 'fluoroacetamide', 'Gigantopithecus', 'grandiloquently', 'haemoglobinuria', 'Haute-Normandie', 'heterosexuality', 'housemastership', 'Ibero-Maurusian', 'idioventricular', 'image-conscious', 'immunolabelling', 'importunateness', 'incommensurable', 'incommensurably', 'incommunicative', 'inconsequential', 'inefficaciously', 'instantaneously', 'instrumentation', 'insubordinately', 'insurrectionary', 'involuntariness', 'jusquauboutiste', 'leukaemogenesis', 'lymphoreticular', 'magnanimousness', 'magneto-induced', 'magnetoplumbite', 'magnetotelluric', 'mangancolumbite', 'manoeuvrability', 'mass-producible', 'menispermaceous', 'micrencephalous', 'microtrabecular', 'miscellaneously', 'mountainboarder', 'mountainousness', 'mouth-breathing', 'Muggletonianism', 'multimerization', 'multinucleolate', 'multiperforated', 'museumification', 'myrmecodomatium', 'nature-religion', 'neo-Freudianism', 'neuroanatomical', 'neurobiological', 'neurochemically', 'neurodermatitis', 'neurodermatosis', 'neuroelectrical', 'neuroepithelial', 'neurofibrillary', 'neuroglycopenia', 'neuromechanical', 'neuromodulation', 'neuromyasthenia', 'neuropaediatric', 'neuropathologic', 'neuropediatrics', 'neuropsychiatry', 'neuroradiologic', 'neurovegetative', 'nitroglauberite', 'non-articulated', 'non-barbiturate', 'non-commutative', 'nucleoprotamine', 'numerologically', 'obstruent-final', 'overambitiously', 'over-articulate', 'over-fastidious', 'over-particular', 'overstimulation', 'palaeocommunity', 'palaeolongitude', 'pan-destruction', 'pan-Europeanism', 'papulovesicular', 'passifloraceous', 'paucilithionite', 'pay-as-you-view', 'pentanucleotide', 'perspicaciously', 'phenylketonuria', 'phosphuranylite', 'photoregulation', 'photostimulable', 'Pithecanthropus', 'pittosporaceous', 'plantaginaceous', 'plasmodium-like', 'pleasure-loving', 'pleuropneumonia', 'pleurotomarioid', 'plug-compatible', 'plutodemocratic', 'pneumatological', 'Pneumatomachian', 'Pneumatomachist', 'pneumonorrhagia', 'post-Chaucerian', 'post-parturient', 'postreductional', 'preconsultation', 'preoccupatively', 'pronunciamiento', 'proteobacterium', 'Protoevangelium', 'pseudaposematic', 'pseudo-archaism', 'pseudoarthrosis', 'pseudobranchial', 'pseudobranchium', 'pseudo-Catholic', 'pseudo-distance', 'pseudodominance', 'pseudoleukaemia', 'pseudomalachite', 'pseudonavicella', 'pseudoparalysis', 'pseudoparasitic', 'pseudopotential', 'pseudo-rational', 'pseudospherical', 'pseudostigmatic', 'pseudotachylite', 'pseudo-volcanic', 'pseudowavellite', 'psycho-curative', 'psychosexuality', 'pure-relational', 'quadrifoliolate', 'quadrillionaire', 'questionability', 'quinalbarbitone', 'quinquefoliated', 'radio-quietness', 'reauthorisation', 'reauthorization', 'recarburisation', 'recarburization', 'reconfiguration', 'recontextualize', 'requalification', 'resequestration', 'restructuration', 'resurrectionary', 'reticulosarcoma', 'retrocopulation', 'revisualization', 'revolutionalise', 'revolutionalize', 'revolutionnaire', 'rhamnoglucoside', 'rheumatological', 'Russo-Byzantine', 'self-accusation', 'self-evaluation', 'self-mutilation', 'self-regulation', 'semi-autonomous', 'southernisation', 'southernization', 'subcontinuative', 'subdenomination', 'subordinateness', 'supercavitation', 'superexaltation', 'superordination', 'superosculation', 'super-political', 'superposability', 'supersaturation', 'supplementation', 'suprachorioidea', 'supraconductive', 'suprarelational', 'tautomerisation', 'tautomerization', 'temerariousness', 'thought-reading', 'trifluoperazine', 'tuberculisation', 'tuberculization', 'tuberculophobia', 'tuberculostatic', 'ultramicroscope', 'unambitiousness', 'unavoidableness', 'uncommunicative', 'uncompanionable', 'uncompassionate', 'uncomplicatedly', 'uncomplimentary', 'unconstrainedly', 'uncontroversial', 'uncooperatively', 'undemonstrative', 'underestimation', 'underpopulation', 'undersaturation', 'unemployability', 'unequivocalness', 'unexceptionable', 'unexceptionably', 'unexceptionally', 'ungovernability', 'unintentionally', 'unobjectionable', 'unobjectionably', 'unobliteratable', 'unpremeditation', 'unproblematical', 'unproblematised', 'unproblematized', 'unprophetically', 'unproportionate', 'unprotestantize', 'unreasonability', 'unreconciliable', 'unscholarliness', 'unseaworthiness', 'unsensationally', 'unsophisticated', 'unsportsmanlike', 'user-orientated', 'values-oriented', 'voluntary-aided', 'voyeuristically', 'water-furrowing', 'water-insoluble', 'acousticolateral', 'acquittance-roll', 'adventitiousness', 'aestivo-autumnal', 'alloalbuminaemia', 'ambidextrousness', 'aromatherapeutic', 'atrioventricular', 'audiospectrogram', 'Australopithecus', 'authentification', 'auto-destruction', 'auto-destructive', 'autolithographed', 'autoluminescence', 'autometamorphism', 'autostereoscopic', 'biomacromolecule', 'biopharmaceutics', 'bronchopneumonia', 'carboxydismutase', 'chemautotrophism', 'chemoautotrophic', 'chemotherapeutic', 'commensurability', 'communicableness', 'consequentialism', 'consequentialist', 'consequentiality', 'counternarcotics', 'countersignature', 'cytoarchitecture', 'dehumidification', 'denaturalization', 'denuclearization', 'depressurization', 'desulphurization', 'deuterocanonical', 'disputatiousness', 'eco-architecture', 'electro-acoustic', 'electropneumatic', 'erythroleukaemia', 'fluorometrically', 'fluviolacustrine', 'foreign-language', 'four-dimensional', 'health-conscious', 'hemagglutination', 'holier-than-thou', 'hypergranulation', 'immunochemically', 'immunodepressant', 'immunohematology', 'immunoperoxidase', 'immunoreactivity', 'inauspiciousness', 'incommensurately', 'institutionalise', 'institutionalize', 'intercommunicate', 'intramolecularly', 'Judaeo-Christian', \"jusqu'auboutisme\", \"jusqu'auboutiste\", 'labour-intensive', 'love-in-a-puzzle', 'magneto-acoustic', 'magnetotellurics', 'manganocolumbite', 'masculo-feminine', 'Megleno-Rumanian', 'methylthiouracil', 'microaerophilous', 'microencapsulate', 'microencephalous', 'microfilamentous', 'microvasculature', 'moustache-lifter', 'mouth-wateringly', 'multibillionaire', 'multidimensional', 'multidirectional', 'multifariousness', 'multimillionaire', 'multinucleolated', 'multiregionalism', 'multiregionalist', 'Naturphilosophie', 'neo-behaviourism', 'neo-behaviourist', 'neo-Confucianism', 'neurobehavioural', 'neurobiochemical', 'neurocirculatory', 'neurocytological', 'neurohypophysial', 'neuropaediatrics', 'neuropathologist', 'neuropsychiatric', 'neuroradiologist', 'neurotransmitter', 'neurotrophically', 'nitrosobacterium', 'nomenclaturalist', 'non-attributable', 'non-communicable', 'non-simultaneity', 'non-simultaneous', 'nucleophilically', 'ostentatiousness', 'out-of-fashioned', 'over-articulated', 'overcautiousness', 'overenthusiastic', 'palaeoequatorial', 'Papuo-Melanesian', 'paratuberculosis', 'parsimoniousness', 'perceptuospatial', 'perigastrulation', 'pertinaciousness', 'phototherapeutic', 'piceo-testaceous', 'pleurobranchiate', 'pleuroperitoneal', 'pluridimensional', 'poikilodermatous', 'Poitou-Charentes', 'polyisocyanurate', 'polymolecularity', 'post-mediastinum', 'precartilaginous', 'pre-evolutionary', 'prereductionally', 'presuppositional', 'pronounceability', 'pseudepigraphous', 'pseudo-Christian', 'pseudo-classical', 'pseudocopulation', 'pseudodiphtheria', 'pseudoerysipelas', 'pseudomycorrhiza', 'pseudo-operation', 'pseudoperipteral', 'pseudoplanktonic', 'pseudoplasmodium', 'pseudoplasticity', 'pseudospeciation', 'pseudosporangium', 'pseudostratified', 'pseudotachylitic', 'pseudotachylytic', 'pseudotetraploid', 'punctato-striate', 'pyrometallurgist', 'quadrillionnaire', 'quarter-tonality', 'Quartodecimanism', 'quasiperiodicity', 'questionableness', 'quinquefoliolate', 'radioluminescent', 'radiotherapeutic', 'radiotranslucent', 'rambunctiousness', 'reauthentication', 'reconstructional', 'retrocalculation', 'reunificationist', 'righteous-making', 'self-portraiture', 'self-stimulation', 'semi-documentary', 'sexual-political', 'simultaneousness', 'subjectification', 'subjectivisation', 'subjectivization', 'sub-prefectorial', 'superaerodynamic', 'super-arrogation', 'supercontraction', 'superdeformation', 'supererogatorian', 'supererogatorily', 'superfecundation', 'supergranulation', 'supergravitation', 'superhydrophobia', 'superinfeudation', 'supernationalism', 'supernationalist', 'supernationality', 'superoxygenation', 'superpersonalism', 'superpersonality', 'supinatoextensor', 'supracoracoideus', 'supradecomposite', 'tautologicalness', 'technopreneurial', 'thermoregulation', 'unapologetically', 'uncommercialised', 'uncommercialized', 'unconventionally', 'undemocratically', 'undenominational', 'underutilization', 'unidirectionally', 'unimpressionable', 'universalization', 'unmentionability', 'unmetaphorically', 'unostentatiously', 'unprofessionally', 'unprofitableness', 'unproportionable', 'unroadworthiness', 'vaingloriousness', 'ventriculography', 'acoustoelectronic', 'actinotherapeutic', 'alumino-magnesian', 'audiospectrograph', 'audiospectrometer', 'australopithecine', 'authoritativeness', 'autobasidiomycete', 'autoschediastical', 'autosensitisation', 'autosensitization', 'autosuggestionist', 'biopharmaceutical', 'bouncebackability', 'bureaucratization', 'chemoarchitecture', 'chemoautotrophism', 'chemotherapeutics', 'colour-coordinate', 'colourimetrically', 'communicativeness', 'computer-literate', 'conceptualisation', 'conceptualization', 'constitutionalise', 'constitutionalize', 'contextualization', 'counter-espionage', 'counterirritation', 'cytoarchitectural', 'deoxyribonuclease', 'disadvantageously', 'dishonourableness', 'electroacoustical', 'electro-hydraulic', 'electrohydraulics', 'electroneutrality', 'electrosurgically', 'Europarliamentary', 'group-theoretical', 'haemagglutination', 'heterodontosaurid', 'immunogenetically', 'immunohaematology', 'immunohematologic', 'immunosuppressant', 'inconsequentially', 'inefficaciousness', 'instantaneousness', 'intercolumniation', 'leucoencephalitis', 'Liberal-Labourism', 'lumpenproletariat', 'macroevolutionary', 'macroglobulinemia', 'metacommunication', 'metacommunicative', 'methemoglobinuria', 'microarchitecture', 'microevolutionary', 'miscellaneousness', 'monumentalization', 'mucoperichondrial', 'multicollinearity', 'multicomponential', 'multi-destination', 'multigenerational', 'multipotentiality', 'multiprogrammable', 'Natur-philosopher', 'Natur-philosophie', 'neo-conceptualism', 'neo-Malthusianism', 'neuroanatomically', 'neurobiologically', 'neurodegeneration', 'neurodegenerative', 'neurofibromatosis', 'neuroglioblastoma', 'neurohistological', 'neurointermediate', 'neuropathological', 'neuropsychiatrist', 'neuropsychopathic', 'neuroradiological', 'neurotransmission', 'non-communicative', 'nucleocytoplasmic', 'organotherapeutic', 'over-articulation', 'over-intellectual', 'palaeolatitudinal', 'palaeoneurologist', 'perfluorochemical', 'perspicaciousness', 'phenanthraquinone', 'phototherapeutics', 'physiotherapeutic', 'platitudinousness', 'pleasant-sounding', 'pleuropericardial', 'pluripotentiality', 'pneumato-chemical', 'pneumatologically', 'pneumatolytically', 'pneumographically', 'pneumomediastinum', 'pneumopericardial', 'pneumopericardium', 'poet-laureateship', 'premultiplication', 'pre-revolutionary', 'pre-visualisation', 'pre-visualization', 'prismato-nacreous', 'propionibacterium', 'pseudobrecciation', 'pseudo-classicism', 'pseudomorphically', 'pseudomycorrhizal', 'pseudostalactitic', 'psychotherapeutic', 'pusillanimousness', 'pyrometallurgical', 'radioluminescence', 'radio-pasteurized', 'radiotherapeutics', 'radiotherapeutist', 'radiotranslucency', 'recapitulationist', 'reconstructionary', 'republicanization', 'revascularisation', 'revascularization', 'revolutionariness', 'sanctimoniousness', 'self-perpetuation', 'self-renunciation', 'sub-Carboniferous', 'subcartilagineous', 'subcategorisation', 'subcategorization', 'superaerodynamics', 'supercolumniation', 'superimpregnation', 'superregeneration', 'telecommunication', 'tubercularisation', 'tubercularization', 'tuberculinisation', 'tuberculinization', 'ultraconservatism', 'ultraconservative', 'ultra-fashionable', 'uncommunicatively', 'uncomplicatedness', 'uncontroversially', 'unconventionalism', 'unconventionality', 'undemonstratively', 'underappreciation', 'unfashionableness', 'unidirectionality', 'unmentionableness', 'unproblematically', 'unprofessionalism', 'unproportionately', 'unprotestantizing', 'unprotestant-like', 'unquestionability', 'unsophisticatedly', 'acousticolateralis', 'acoustoelectricity', 'acoustoelectronics', 'actinotherapeutics', 'agammaglobulinemia', 'agammaglobulinemic', 'amplitude-modulate', 'autosuggestibility', 'bioinstrumentation', 'bourgeoisification', 'chemoimmunotherapy', 'climatotherapeutic', 'colour-coordinated', 'community-acquired', 'contra-suggestible', 'counter-accusation', 'counter-attraction', 'cut-and-come-again', 'deinstitutionalise', 'deinstitutionalize', 'electrocoagulation', 'electroejaculation', 'electrostimulation', 'electrotherapeutic', 'ethnomusicological', 'haploinsufficiency', 'immunocytochemical', 'immunohaematologic', 'immunosurveillance', 'incommensurability', 'incommensurateness', 'incommunicableness', 'inconsequentiality', 'inflation-adjusted', 'intercommunication', 'intercommunicative', 'macroglobulinaemia', 'mechanotherapeutic', 'medico-chirurgical', 'methaemoglobinuria', 'microencapsulation', 'micropulverization', 'mucopolysaccharide', 'multidimensionally', 'musculoligamentous', 'neo-behaviouristic', 'neovascularisation', 'neovascularization', 'neuroembryological', 'neuroleptanalgesia', 'neuroleptanalgesic', 'neuropharmacologic', 'neurophysiological', 'neuropsychological', 'Nouvelle-Calédonie', 'number-theoretical', 'osteocartilaginous', 'over-vulcanization', 'pachycephalosaurid', 'palaeoneurological', 'physicotherapeutic', 'phytohemagglutinin', 'pleuropericarditis', 'pneumopericarditis', 'pneumotachographic', 'pneumotherapeutics', 'polypharmaceutical', 'programme-building', 'pseudoarticulation', 'pseudo-Catholicism', 'pseudoisochromatic', 'pseudomultilocular', 'pseudopigmentation', 'pseudo-prophetical', 'pseudo-rationalism', 'pseudo-rationalist', 'pseudo-rationality', 'pseudowollastonite', 'psycho-educational', 'psychoneurological', 'psychotherapeutics', 'psychotherapeutist', 'Puligny-Montrachet', 'purchaser/provider', 'purchaser–provider', 'quantum-electronic', 'quartzofeldspathic', 'self-actualisation', 'self-actualization', 'self-justification', 'self-justificatory', 'supraconsciousness', 'tuberculosectorial', 'unconscionableness', 'underdetermination', 'unostentatiousness', 'unquestionableness', 'unsatisfactoriness', 'agammaglobulinaemia', 'agammaglobulinaemic', 'analogue-to-digital', 'beggar-my-neighbour', 'cathodoluminescence', 'chemautotrophically', 'chemolithoautotroph', 'computer-illiterate', 'conceptualistically', 'Counter-Reformation', 'cytoarchitecturally', 'decontextualization', 'deindustrialisation', 'deindustrialization', 'digital-to-analogue', 'discouraged-looking', 'earthquake-proofing', 'electrotherapeutics', 'Europarliamentarian', 'extraconstitutional', 'immunohematological', 'immunohistochemical', 'immunoprecipitation', 'immunoproliferative', 'immunosympathectomy', 'inconsequentialness', 'Judaeo-Christianity', 'Maksutov–Cassegrain', 'metacommunicational', 'multidimensionality', 'multilateralisation', 'multilateralization', 'neuropathologically', 'neuropharmacologist', 'neuroradiologically', 'number-unobtainable', 'oxidation-reduction', 'pancreaticoduodenal', 'Permo–Carboniferous', 'phosphofructokinase', 'phytohaemagglutinin', 'picture-frustration', 'picture-postcardish', 'plutonometamorphism', 'porphobilinogenuria', 'pseudo-Christianity', 'pseudochromesthesia', 'pseudocompatibility', 'pseudo-intellectual', 'pseudo-solarisation', 'pseudo-solarization', 'psychotherapeutical', 'quarter-in-the-slot', 'radioimmunochemical', 'radiopharmaceutical', 'reindustrialization', 'reticuloendothelial', 'rhombicuboctahedron', 'self-congratulation', 'supernaturalization', 'super-technological', 'ultracentrifugation', 'uncommunicativeness', 'undemonstrativeness', 'undercapitalization', 'unexceptionableness', 'unobjectionableness', 'unphilosophicalness', 'unproportionateness', 'unsophisticatedness', 'chemoautotrophically', 'chemolithoautotrophy', 'consciousness-raiser', 'counterdemonstration', 'counterproliferation', 'electro-oculographic', 'electrotherapeutical', 'generation-conscious', 'immunocytochemically', 'immunohaematological', 'Languedoc-Roussillon', 'multi-denominational', 'neuroleptanaesthesia', 'neuropharmacological', 'neurophysiologically', 'nucleolo-cytoplasmic', 'number-theoretically', 'overenthusiastically', 'over-intellectualize', 'parson-in-the-pulpit', 'physico-intellectual', 'pleuropneumonia-like', 'pneumatico-hydraulic', 'population-explosive', 'pseudocholinesterase', 'pseudochromaesthesia', 'pseudo-hallucination', 'pseudo-hallucinatory', 'pseudo-homosexuality', 'pseudostratification', 'psychopharmaceutical', 'pulse-time-modulated', 'pyopneumopericardium', 'radioimmunoassayable', 'radioimmunochemistry', 'radio-pasteurization', 'radiotherapeutically', 'rhombicubeoctahedron', 'Sunday-go-to-meeting', 'theatre-in-the-round', 'under-representation', 'chemolithoautotrophic', 'consciousness-raising', 'counter-revolutionary', 'immunohistochemically', 'mechanico-corpuscular', 'over-intellectualized', 'phenolsulfonphthalein', 'phthalylsulfathiazole', 'pseudohermaphroditism', 'pseudoparthenogenesis', 'psychotherapeutically', 'quantum-theoretically', 'radioimmunochemically', 'semi-autobiographical', 'carbonate-fluorapatite', 'deinstitutionalization', 'immunosympathectomized', 'neuropharmacologically', 'perturbation-theoretic', 'phenolsulphonphthalein', 'phthalylsulphathiazole', 'pneumoencephalographic', 'pneumoventriculography', 'pseudo-rationalization', 'quantum-electrodynamic', 'radiophotoluminescence', 'rhombi-cubo-octahedron', 'consciousness-expanding', 'dichlorodifluoromethane', 'electrooculographically', 'pancreaticoduodenectomy', 'over-intellectualization', 'perturbation-theoretical', 'pseudohypoparathyroidism', 'psychoneuroimmunological', 'quantum-electrodynamical', 'radioimmunoprecipitation', 'immunoelectrophoretically', 'radioimmunoelectrophoresis', 'psychoneuroendocrinological', 'what-you-see-is-what-you-get', 'pseudopseudohypoparathyroidism', 'supercalifragilisticexpialidocious', 'pneumonoultramicroscopicsilicovolcanoconiosis']\n"
     ]
    }
   ],
   "source": [
    "# from readmdict import MDX, MDD\n",
    "\n",
    "# mdx = MDX(\"Oxford Dictionary of English 3e.mdx\")\n",
    "# items = list(mdx.items())\n",
    "\n",
    "# words = []\n",
    "# for key, value in items:\n",
    "#     words.append(key.decode('utf-8'))\n",
    "# aeiou = [word for word in words if all([i in word for i in 'aeiou'])]\n",
    "# aeiou = [word for word in aeiou if \" \" not in word]\n",
    "# aeiou = sorted(aeiou, key=lambda x: len(x))\n",
    "\n",
    "print(aeiou)\n",
    "\n"
   ]
  },
  {
   "cell_type": "code",
   "execution_count": 8,
   "metadata": {},
   "outputs": [
    {
     "name": "stdout",
     "output_type": "stream",
     "text": [
      ".X0H{font-family:\"Lucida Grande\",\"Open Sans\",\"Lucida Sans Unicode\";line-height:115%}\n",
      ".X0H a{color:royalblue;text-decoration:none}\n",
      ".X0H p{clear:both;margin:0;padding:0}\n",
      ".oWw{color:blue;font-size:120%;font-weight:bold;margin-bottom:0.6em}\n",
      ".eI2{font-family:\"Lucida Sans Unicode\",\"Arial Unicode MS\"}\n",
      ".oWw .eI2{color:dimgray;font-weight:normal;font-size:85%;white-space:nowrap}\n",
      ".eI2 em{color:#B8860B;font-family:Helvetica;font-size:85%}\n",
      ".oWw div{display:inline;padding-left:0.3em}\n",
      ".Byk{text-indent:1em; margin:0.2em 0 0 0}\n",
      ".OAj{float:left;clear:both;color:#777;font-family:Helvetica;border:1px #4C8BBB solid;border-left:3px solid #1c4b8b;margin:0.3em 1.2em;padding:0.2em 0.5em}\n",
      ".ctB, .X0H i, .WQz{font-style:italic;font-family:\"Georgia\",\"Times\",\"serif\";font-size:105%;color:navy}\n",
      ".Hcw{font-weight:bold;color:#090}\n",
      "p.Apc, .X0H+.X0H{margin:0.5em 0 0 0}\n",
      ".M3q{font-weight:bold;color:#194885}\n",
      ".zMG{position:absolute;left:-1.1em;font-weight:bold;color:#DA3433;font-family:Helvetica;font-size:95%}\n",
      "p.HrG{position:relative;margin-left:1.2em}\n",
      ".s8w{font-family:\"Georgia\",\"Lucida Sans Unicode\",\"Arial Unicode MS\"}\n",
      ".ziy{white-space:normal}\n"
     ]
    }
   ],
   "source": [
    "mdd = MDD(\"Merriam-Webster's Vocabulary Builder.mdd\")\n",
    "for i in mdd.items():\n",
    "    print(i[1].decode('utf-8'))\n"
   ]
  },
  {
   "cell_type": "code",
   "execution_count": 53,
   "metadata": {},
   "outputs": [
    {
     "name": "stdout",
     "output_type": "stream",
     "text": [
      "A word that means the opposite of some other word.\n",
      "\n",
      "--------------------\n",
      "There's no point in telling a three-year-old that **cat** isn't an antonym of         **dog**, and **sun** isn't an antonym of **moon**.\n",
      "\n",
      "--------------------\n",
      "**Antonym** includes the Greek prefix **ant-**, meaning         \"opposite\" (See **ANT/ANTI.**)Antonyms are often thought of in pairs: **hot/cold, up/down, wet/dry, buy/sell, failure/success**.But a word may have more than one         antonym **(old/young, old/new)**, especially when one of the words has synonyms **(small/large, small/big, little/big)**, and a word may have many approximate antonyms **(adore/hate, adore/detest, adore/loathe)**. But although lots of words have synonyms, not so         many have antonyms. What would be the antonym of **pink**? **weather**? **semipro**? **thirty**? **firefighter**? **wax**? **about**? **consider**?\n",
      "\n",
      "--------------------\n"
     ]
    }
   ],
   "source": [
    "from bs4 import BeautifulSoup as bs\n",
    "soup = bs(open('vob/antonym.html', 'r').read(), 'html.parser')\n",
    "for para in soup.find_all(['div','p'], attrs={'class': ['explanation', 'example']}):\n",
    "    for run in para.contents:\n",
    "        if run.name in ['span', 'a']:\n",
    "            print(\"**\" + run.get_text().replace('\\n', ' ') + \"**\", end='')\n",
    "        else:\n",
    "            print(run.get_text().replace('\\n', ' '), end='')\n",
    "    else:\n",
    "        print('\\n')\n",
    "    print(\"-\"*20)\n",
    "\n",
    "\n"
   ]
  },
  {
   "cell_type": "code",
   "execution_count": 39,
   "metadata": {},
   "outputs": [
    {
     "data": {
      "text/plain": [
       "['DEFAULT_INTERESTING_STRING_TYPES',\n",
       " 'EMPTY_ELEMENT_EVENT',\n",
       " 'END_ELEMENT_EVENT',\n",
       " 'START_ELEMENT_EVENT',\n",
       " 'STRING_ELEMENT_EVENT',\n",
       " '__bool__',\n",
       " '__call__',\n",
       " '__class__',\n",
       " '__contains__',\n",
       " '__copy__',\n",
       " '__deepcopy__',\n",
       " '__delattr__',\n",
       " '__delitem__',\n",
       " '__dict__',\n",
       " '__dir__',\n",
       " '__doc__',\n",
       " '__eq__',\n",
       " '__format__',\n",
       " '__ge__',\n",
       " '__getattr__',\n",
       " '__getattribute__',\n",
       " '__getitem__',\n",
       " '__getstate__',\n",
       " '__gt__',\n",
       " '__hash__',\n",
       " '__init__',\n",
       " '__init_subclass__',\n",
       " '__iter__',\n",
       " '__le__',\n",
       " '__len__',\n",
       " '__lt__',\n",
       " '__module__',\n",
       " '__ne__',\n",
       " '__new__',\n",
       " '__reduce__',\n",
       " '__reduce_ex__',\n",
       " '__repr__',\n",
       " '__setattr__',\n",
       " '__setitem__',\n",
       " '__sizeof__',\n",
       " '__str__',\n",
       " '__subclasshook__',\n",
       " '__unicode__',\n",
       " '__weakref__',\n",
       " '_all_strings',\n",
       " '_clone',\n",
       " '_event_stream',\n",
       " '_find_all',\n",
       " '_find_one',\n",
       " '_format_tag',\n",
       " '_indent_string',\n",
       " '_is_xml',\n",
       " '_lastRecursiveChild',\n",
       " '_last_descendant',\n",
       " '_namespaces',\n",
       " '_should_pretty_print',\n",
       " 'append',\n",
       " 'attrs',\n",
       " 'can_be_empty_element',\n",
       " 'cdata_list_attributes',\n",
       " 'childGenerator',\n",
       " 'children',\n",
       " 'clear',\n",
       " 'contents',\n",
       " 'css',\n",
       " 'decode',\n",
       " 'decode_contents',\n",
       " 'decompose',\n",
       " 'decomposed',\n",
       " 'default',\n",
       " 'descendants',\n",
       " 'encode',\n",
       " 'encode_contents',\n",
       " 'extend',\n",
       " 'extract',\n",
       " 'fetchNextSiblings',\n",
       " 'fetchParents',\n",
       " 'fetchPrevious',\n",
       " 'fetchPreviousSiblings',\n",
       " 'find',\n",
       " 'findAll',\n",
       " 'findAllNext',\n",
       " 'findAllPrevious',\n",
       " 'findChild',\n",
       " 'findChildren',\n",
       " 'findNext',\n",
       " 'findNextSibling',\n",
       " 'findNextSiblings',\n",
       " 'findParent',\n",
       " 'findParents',\n",
       " 'findPrevious',\n",
       " 'findPreviousSibling',\n",
       " 'findPreviousSiblings',\n",
       " 'find_all',\n",
       " 'find_all_next',\n",
       " 'find_all_previous',\n",
       " 'find_next',\n",
       " 'find_next_sibling',\n",
       " 'find_next_siblings',\n",
       " 'find_parent',\n",
       " 'find_parents',\n",
       " 'find_previous',\n",
       " 'find_previous_sibling',\n",
       " 'find_previous_siblings',\n",
       " 'format_string',\n",
       " 'formatter_for_name',\n",
       " 'get',\n",
       " 'getText',\n",
       " 'get_attribute_list',\n",
       " 'get_text',\n",
       " 'has_attr',\n",
       " 'has_key',\n",
       " 'hidden',\n",
       " 'index',\n",
       " 'insert',\n",
       " 'insert_after',\n",
       " 'insert_before',\n",
       " 'interesting_string_types',\n",
       " 'isSelfClosing',\n",
       " 'is_empty_element',\n",
       " 'known_xml',\n",
       " 'name',\n",
       " 'namespace',\n",
       " 'next',\n",
       " 'nextGenerator',\n",
       " 'nextSibling',\n",
       " 'nextSiblingGenerator',\n",
       " 'next_element',\n",
       " 'next_elements',\n",
       " 'next_sibling',\n",
       " 'next_siblings',\n",
       " 'parent',\n",
       " 'parentGenerator',\n",
       " 'parents',\n",
       " 'parserClass',\n",
       " 'parser_class',\n",
       " 'prefix',\n",
       " 'preserve_whitespace_tags',\n",
       " 'prettify',\n",
       " 'previous',\n",
       " 'previousGenerator',\n",
       " 'previousSibling',\n",
       " 'previousSiblingGenerator',\n",
       " 'previous_element',\n",
       " 'previous_elements',\n",
       " 'previous_sibling',\n",
       " 'previous_siblings',\n",
       " 'recursiveChildGenerator',\n",
       " 'renderContents',\n",
       " 'replaceWith',\n",
       " 'replaceWithChildren',\n",
       " 'replace_with',\n",
       " 'replace_with_children',\n",
       " 'select',\n",
       " 'select_one',\n",
       " 'self_and_descendants',\n",
       " 'setup',\n",
       " 'smooth',\n",
       " 'sourceline',\n",
       " 'sourcepos',\n",
       " 'string',\n",
       " 'strings',\n",
       " 'stripped_strings',\n",
       " 'text',\n",
       " 'unwrap',\n",
       " 'wrap']"
      ]
     },
     "execution_count": 39,
     "metadata": {},
     "output_type": "execute_result"
    }
   ],
   "source": [
    "dir(soup.find_all(['div','p'], attrs={'class': ['explanation', 'example']})[0])"
   ]
  },
  {
   "cell_type": "code",
   "execution_count": 52,
   "metadata": {},
   "outputs": [
    {
     "data": {
      "text/plain": [
       "<generator object Tag._all_strings at 0x11a945c40>"
      ]
     },
     "execution_count": 52,
     "metadata": {},
     "output_type": "execute_result"
    }
   ],
   "source": [
    "soup.find_all(['div','p'], attrs={'class': ['explanation', 'example']})[0].string"
   ]
  },
  {
   "cell_type": "code",
   "execution_count": null,
   "metadata": {},
   "outputs": [],
   "source": []
  }
 ],
 "metadata": {
  "kernelspec": {
   "display_name": "base",
   "language": "python",
   "name": "python3"
  },
  "language_info": {
   "codemirror_mode": {
    "name": "ipython",
    "version": 3
   },
   "file_extension": ".py",
   "mimetype": "text/x-python",
   "name": "python",
   "nbconvert_exporter": "python",
   "pygments_lexer": "ipython3",
   "version": "3.11.4"
  }
 },
 "nbformat": 4,
 "nbformat_minor": 2
}
